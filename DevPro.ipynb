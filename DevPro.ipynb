{
  "nbformat": 4,
  "nbformat_minor": 0,
  "metadata": {
    "colab": {
      "provenance": [],
      "authorship_tag": "ABX9TyPKSKWebwmP4J816UcU1lNb",
      "include_colab_link": true
    },
    "kernelspec": {
      "name": "python3",
      "display_name": "Python 3"
    },
    "language_info": {
      "name": "python"
    }
  },
  "cells": [
    {
      "cell_type": "markdown",
      "metadata": {
        "id": "view-in-github",
        "colab_type": "text"
      },
      "source": [
        "<a href=\"https://colab.research.google.com/github/Koringa-1/cursospythonpro/blob/master/DevPro.ipynb\" target=\"_parent\"><img src=\"https://colab.research.google.com/assets/colab-badge.svg\" alt=\"Open In Colab\"/></a>"
      ]
    },
    {
      "cell_type": "markdown",
      "source": [
        "PythonPro_Brasil [Exercícios Python](https://wiki.python.org.br/EstruturaSequencial) "
      ],
      "metadata": {
        "id": "kc0Fzi6NARxS"
      }
    },
    {
      "cell_type": "code",
      "source": [
        "#Faça um Programa que mostre a mensagem \"Alo mundo\" na tela.\n",
        "print('olá mundo')"
      ],
      "metadata": {
        "colab": {
          "base_uri": "https://localhost:8080/"
        },
        "id": "nq_TN8oQvx9I",
        "outputId": "85509c8e-de16-4d54-ebb7-f8c7b671f171"
      },
      "execution_count": null,
      "outputs": [
        {
          "output_type": "stream",
          "name": "stdout",
          "text": [
            "olá mundo\n"
          ]
        }
      ]
    },
    {
      "cell_type": "code",
      "source": [
        "#Faça um Programa que peça um número e então mostre a mensagem O número informado foi [número].\n",
        "numero = int(input(' '))\n",
        "print(f'O número digitado foi {numero}')"
      ],
      "metadata": {
        "colab": {
          "base_uri": "https://localhost:8080/"
        },
        "id": "znEp4c7pwP-5",
        "outputId": "2df4cb43-bd21-40da-feff-b2a9fc97fabd"
      },
      "execution_count": null,
      "outputs": [
        {
          "output_type": "stream",
          "name": "stdout",
          "text": [
            " 7\n",
            "O número digitado foi 7\n"
          ]
        }
      ]
    },
    {
      "cell_type": "code",
      "source": [
        "#Faça um Programa que peça dois números e imprima a soma.\n",
        "numero = ('numero_1', 'numero_2')\n",
        "numero_1 = int(input())\n",
        "numero_2 = int(input())\n",
        "soma = numero_1 + numero_2\n",
        "print(f'A soma é {soma}')"
      ],
      "metadata": {
        "colab": {
          "base_uri": "https://localhost:8080/"
        },
        "id": "88q1dOJnyPBJ",
        "outputId": "9f188232-5b4b-431c-b3d3-63225e04d7ee"
      },
      "execution_count": null,
      "outputs": [
        {
          "output_type": "stream",
          "name": "stdout",
          "text": [
            "7\n",
            "3\n",
            "A soma é 10\n"
          ]
        }
      ]
    },
    {
      "cell_type": "code",
      "source": [
        "#Faça um Programa que peça as 4 notas bimestrais e mostre a média.\n",
        "bimestre = ('nota_1', 'nota_2', 'nota_3', 'nota_4')\n",
        "nota_1 =  float(input())\n",
        "nota_2 =  float(input())\n",
        "nota_3 =  float(input())\n",
        "nota_4 =  float(input())\n",
        "media = float(nota_1 + nota_2 + nota_3 + nota_4) / 4\n",
        "print(f'A média é {media}')"
      ],
      "metadata": {
        "colab": {
          "base_uri": "https://localhost:8080/"
        },
        "id": "mVOtxXcS3xUb",
        "outputId": "86c305f5-5016-4c97-b926-48273d4b7a03"
      },
      "execution_count": null,
      "outputs": [
        {
          "output_type": "stream",
          "name": "stdout",
          "text": [
            "7\n",
            "3\n",
            "1\n",
            "9\n",
            "A média é 5.0\n"
          ]
        }
      ]
    },
    {
      "cell_type": "code",
      "source": [
        "#Faça um Programa que converta metros para centímetros.\n",
        "class Metro():\n",
        "  metro =float(input('Quantos metros deseja converter em centímetros? '))\n",
        "  centimetros = (metro ) *100\n",
        "  print(f'{metro} m corresponde a {centimetros} cms')"
      ],
      "metadata": {
        "colab": {
          "base_uri": "https://localhost:8080/"
        },
        "id": "kTN0J6nvE-ki",
        "outputId": "f71e00cd-0508-4837-9ddf-a3fe81502b61"
      },
      "execution_count": null,
      "outputs": [
        {
          "output_type": "stream",
          "name": "stdout",
          "text": [
            "Quantos metros deseja converter em centímetros? 7\n",
            "7.0 m corresponde a 700.0 cms\n"
          ]
        }
      ]
    },
    {
      "cell_type": "code",
      "source": [
        "#Faça um Programa que peça o raio de um círculo, calcule e mostre sua área.\n",
        "class Circulo:\n",
        "  raio = float(input('Qual é o Raio do circulo que deseja calcular? '))\n",
        "  circulo = (raio) *2\n",
        "  \n",
        "  print(f'A área do círculo é: {circulo}')"
      ],
      "metadata": {
        "id": "-RRhR2rrNPCh",
        "colab": {
          "base_uri": "https://localhost:8080/"
        },
        "outputId": "be278abe-a158-4407-ae47-8478d9c85bef"
      },
      "execution_count": null,
      "outputs": [
        {
          "output_type": "stream",
          "name": "stdout",
          "text": [
            "Qual é o Raio do circulo que deseja calcular? 5.5\n",
            "A área do círculo é: 11.0\n"
          ]
        }
      ]
    },
    {
      "cell_type": "code",
      "source": [
        "#Faça um Programa que pergunte quanto você ganha por hora e o número de horas trabalhadas no mês. Calcule e mostre o total do seu salário no referido mês\n",
        "valor_hora = float(input('Valor da Hora? '))\n",
        "h_trabalhadas = float(input('Horas Trabalhadas: '))\n",
        "salario = valor_hora * h_trabalhadas\n",
        "print(f'O salário é: {salario}')\n"
      ],
      "metadata": {
        "colab": {
          "base_uri": "https://localhost:8080/"
        },
        "id": "IGCPRJDhSEyQ",
        "outputId": "99fc6f61-186d-4053-d08a-53391871ef1b"
      },
      "execution_count": null,
      "outputs": [
        {
          "output_type": "stream",
          "name": "stdout",
          "text": [
            "Valor da Hora? 5.50\n",
            "Horas Trabalhadas: 368\n",
            "O salário é: 2024.0\n"
          ]
        }
      ]
    },
    {
      "cell_type": "code",
      "source": [
        "#Faça um Programa que peça a temperatura em graus Fahrenheit, transforme e mostre a temperatura em graus Celsius.\n",
        "f = float(input('Digite a temperatura em graus Fahrenheit: '))\n",
        "fah = float(((f-32) * 5) / 9)\n",
        "c = fah\n",
        "print(f'{f} °F corresponde a {c} °C')\n"
      ],
      "metadata": {
        "id": "6d-gXqvYVVC5",
        "colab": {
          "base_uri": "https://localhost:8080/"
        },
        "outputId": "de8acb0c-f7e4-403d-f73f-128363d48c68"
      },
      "execution_count": null,
      "outputs": [
        {
          "output_type": "stream",
          "name": "stdout",
          "text": [
            "Digite a temperatura em graus Fahrenheit: 7\n",
            "7.0 °F corresponde a -13.88888888888889 °C\n"
          ]
        }
      ]
    },
    {
      "cell_type": "code",
      "source": [
        "#Faça um Programa que peça a temperatura em graus Celsius, transforme e mostre em graus Fahrenheit.\n",
        "c = float(input('Digite a temp. em Célcios: '))\n",
        "cel = float(((c* 9 /5 ) +32))\n",
        "f = cel\n",
        "print(f'{c} ° C corresponde a {f} ° Fah')\n"
      ],
      "metadata": {
        "id": "9vSiK8UpVt_6",
        "colab": {
          "base_uri": "https://localhost:8080/"
        },
        "outputId": "0cf29efe-ced2-4ab0-97fa-5f96b428f64e"
      },
      "execution_count": null,
      "outputs": [
        {
          "output_type": "stream",
          "name": "stdout",
          "text": [
            "Digite a temp. em Célcios: 7\n",
            "7.0 ° C corresponde a 44.6 ° Fah\n"
          ]
        }
      ]
    },
    {
      "cell_type": "code",
      "source": [
        "#''' Faça um Programa que peça 2 números inteiros e um número real. Calcule e mostre:\n",
        "#(A) o produto do dobro do primeiro com metade do segundo (B) a soma do triplo do primeiro com o terceiro. (C) o terceiro elevado ao cubo'''\n",
        "#class Numero:\n",
        "numero_1 = float(input(''))\n",
        "numero_2 = float(input(''))\n",
        "numero_3 = int(input(''))\n",
        "n1 = numero_1 * 2 + (numero_2 /2)\n",
        "n2 = numero_1  *3 + 1E3\n",
        "n3 = numero_3 ** 3\n",
        "print(f'{n1}  e {n2}  e  {n3}')\n"
      ],
      "metadata": {
        "id": "YaPb1EzAV1Yx",
        "colab": {
          "base_uri": "https://localhost:8080/"
        },
        "outputId": "aeb87ff4-45e1-405d-926a-38269a920edf"
      },
      "execution_count": 11,
      "outputs": [
        {
          "output_type": "stream",
          "name": "stdout",
          "text": [
            "777\n",
            "999\n",
            "333\n",
            "2053.5  e 3331.0  e  36926037\n"
          ]
        }
      ]
    },
    {
      "cell_type": "markdown",
      "source": [
        "## **Estrutura de Decisão**\n",
        "\n"
      ],
      "metadata": {
        "id": "58Cof8uOCApz"
      }
    },
    {
      "cell_type": "code",
      "source": [
        "#Faça um Programa que peça dois números e imprima o maior deles.\n",
        "n1 = input('')\n",
        "n2 = input('')\n",
        "if (n1) > (n2):\n",
        "  print('O primeiro número é maior!')\n",
        "elif (n1) == (n2):\n",
        "  print('Os números são iguais!')\n",
        "else:\n",
        "  print('O segundo número é maior!')\n",
        "  "
      ],
      "metadata": {
        "colab": {
          "base_uri": "https://localhost:8080/"
        },
        "id": "_XBjT60zAD2z",
        "outputId": "9b8c9ded-efb4-441e-a8a5-6402548f500a"
      },
      "execution_count": 3,
      "outputs": [
        {
          "output_type": "stream",
          "name": "stdout",
          "text": [
            "123\n",
            "777\n",
            "O segundo número é maior!\n"
          ]
        }
      ]
    },
    {
      "cell_type": "code",
      "source": [
        "#Faça um Programa que peça um valor e mostre na tela se o valor é positivo ou negativo.\n",
        "n = int(input(''))\n",
        "if (n % 2) == 0:\n",
        "  print('Número PAR')\n",
        "else:\n",
        "  print('Número ÍMPAR')\n"
      ],
      "metadata": {
        "id": "JL2ZN9Y4HmDL",
        "outputId": "84c04861-6787-407a-d8fa-1fd3b863b4fb",
        "colab": {
          "base_uri": "https://localhost:8080/"
        }
      },
      "execution_count": 17,
      "outputs": [
        {
          "output_type": "stream",
          "name": "stdout",
          "text": [
            "7\n",
            "Número ÍMPAR\n"
          ]
        }
      ]
    },
    {
      "cell_type": "code",
      "source": [
        "#Faça um Programa que verifique se uma letra digitada é \"F\" ou \"M\". Conforme a letra escrever: F - Feminino, M - Masculino, Sexo Inválido.\n"
      ],
      "metadata": {
        "id": "C01AMoa4Moy8"
      },
      "execution_count": null,
      "outputs": []
    },
    {
      "cell_type": "code",
      "source": [
        "#Faça um Programa que verifique se uma letra digitada é vogal ou consoante.\n"
      ],
      "metadata": {
        "id": "5vbVl6VxM5X4"
      },
      "execution_count": null,
      "outputs": []
    },
    {
      "cell_type": "code",
      "source": [
        "#Faça um programa para a leitura de duas notas parciais de um aluno. O programa deve calcular a média alcançada por aluno e apresentar:\n",
        "#A mensagem \"Aprovado\", se a média alcançada for maior ou igual a sete;\n",
        "#A mensagem \"Reprovado\", se a média for menor do que sete;\n",
        "#A mensagem \"Aprovado com Distinção\", se a média for igual a dez.\n",
        "\n",
        "#class Notas:\n",
        "#notas = (n1), (n2)\n",
        "n1 = float(input('Nota 1: '))\n",
        "n2 = float(input('Nota 2: '))\n",
        "media = float(n1 + n2) / 2\n",
        "if media >= 7 <10:\n",
        "  print('Aprovado')\n",
        "elif media < 7:\n",
        "  print('Reprovado')\n",
        "else:\n",
        "  media == 10\n",
        "print('Aprovado com Distinção')\n"
      ],
      "metadata": {
        "id": "76YO-f0QM_px",
        "outputId": "625d86fa-ca2d-4980-af30-81110c2004a8",
        "colab": {
          "base_uri": "https://localhost:8080/"
        }
      },
      "execution_count": 31,
      "outputs": [
        {
          "output_type": "stream",
          "name": "stdout",
          "text": [
            "Nota 1: 10\n",
            "Nota 2: 10\n",
            "Aprovado\n",
            "Aprovado com Distinção\n"
          ]
        }
      ]
    },
    {
      "cell_type": "markdown",
      "source": [],
      "metadata": {
        "id": "KLQDjV-_lBZf"
      }
    }
  ]
}