{
  "nbformat": 4,
  "nbformat_minor": 0,
  "metadata": {
    "colab": {
      "provenance": [],
      "authorship_tag": "ABX9TyMrJ61YBqM3Wwq7Gjv5mtU1",
      "include_colab_link": true
    },
    "kernelspec": {
      "name": "python3",
      "display_name": "Python 3"
    },
    "language_info": {
      "name": "python"
    }
  },
  "cells": [
    {
      "cell_type": "markdown",
      "metadata": {
        "id": "view-in-github",
        "colab_type": "text"
      },
      "source": [
        "<a href=\"https://colab.research.google.com/github/Koringa-1/cursospythonpro/blob/master/DevPro.ipynb\" target=\"_parent\"><img src=\"https://colab.research.google.com/assets/colab-badge.svg\" alt=\"Open In Colab\"/></a>"
      ]
    },
    {
      "cell_type": "markdown",
      "source": [
        "## Python Brasil [Exercícios Python](https://wiki.python.org.br/*ListaDeExercicios*)"
      ],
      "metadata": {
        "id": "sI2ALRX4uh_7"
      }
    },
    {
      "cell_type": "markdown",
      "source": [],
      "metadata": {
        "id": "augcDG1QjrSl"
      }
    },
    {
      "cell_type": "code",
      "source": [
        "#Faça um Programa que mostre a mensagem \"Alo mundo\" na tela.\n",
        "print('olá mundo')"
      ],
      "metadata": {
        "colab": {
          "base_uri": "https://localhost:8080/"
        },
        "id": "nq_TN8oQvx9I",
        "outputId": "85509c8e-de16-4d54-ebb7-f8c7b671f171"
      },
      "execution_count": null,
      "outputs": [
        {
          "output_type": "stream",
          "name": "stdout",
          "text": [
            "olá mundo\n"
          ]
        }
      ]
    },
    {
      "cell_type": "code",
      "source": [
        "#Faça um Programa que peça um número e então mostre a mensagem O número informado foi [número].\n",
        "numero = int(input(' '))\n",
        "print(f'O número digitado foi {numero}')"
      ],
      "metadata": {
        "colab": {
          "base_uri": "https://localhost:8080/"
        },
        "id": "znEp4c7pwP-5",
        "outputId": "2df4cb43-bd21-40da-feff-b2a9fc97fabd"
      },
      "execution_count": null,
      "outputs": [
        {
          "output_type": "stream",
          "name": "stdout",
          "text": [
            " 7\n",
            "O número digitado foi 7\n"
          ]
        }
      ]
    },
    {
      "cell_type": "code",
      "source": [
        "#Faça um Programa que peça dois números e imprima a soma.\n",
        "numero = ('numero_1', 'numero_2')\n",
        "numero_1 = int(input())\n",
        "numero_2 = int(input())\n",
        "soma = numero_1 + numero_2\n",
        "print(f'A soma é {soma}')"
      ],
      "metadata": {
        "colab": {
          "base_uri": "https://localhost:8080/"
        },
        "id": "88q1dOJnyPBJ",
        "outputId": "9f188232-5b4b-431c-b3d3-63225e04d7ee"
      },
      "execution_count": null,
      "outputs": [
        {
          "output_type": "stream",
          "name": "stdout",
          "text": [
            "7\n",
            "3\n",
            "A soma é 10\n"
          ]
        }
      ]
    },
    {
      "cell_type": "code",
      "source": [
        "#Faça um Programa que peça as 4 notas bimestrais e mostre a média.\n",
        "bimestre = ('nota_1', 'nota_2', 'nota_3', 'nota_4')\n",
        "nota_1 =  float(input())\n",
        "nota_2 =  float(input())\n",
        "nota_3 =  float(input())\n",
        "nota_4 =  float(input())\n",
        "media = float(nota_1 + nota_2 + nota_3 + nota_4) / 4\n",
        "print(f'A média é {media}')"
      ],
      "metadata": {
        "colab": {
          "base_uri": "https://localhost:8080/"
        },
        "id": "mVOtxXcS3xUb",
        "outputId": "86c305f5-5016-4c97-b926-48273d4b7a03"
      },
      "execution_count": null,
      "outputs": [
        {
          "output_type": "stream",
          "name": "stdout",
          "text": [
            "7\n",
            "3\n",
            "1\n",
            "9\n",
            "A média é 5.0\n"
          ]
        }
      ]
    },
    {
      "cell_type": "code",
      "source": [
        "#Faça um Programa que converta metros para centímetros.\n",
        "class Metro():\n",
        "  metro =float(input('Quantos metros deseja converter em centímetros? '))\n",
        "  centimetros = (metro ) *100\n",
        "  print(f'{metro} m corresponde a {centimetros} cms')"
      ],
      "metadata": {
        "colab": {
          "base_uri": "https://localhost:8080/"
        },
        "id": "kTN0J6nvE-ki",
        "outputId": "f71e00cd-0508-4837-9ddf-a3fe81502b61"
      },
      "execution_count": 20,
      "outputs": [
        {
          "output_type": "stream",
          "name": "stdout",
          "text": [
            "Quantos metros deseja converter em centímetros? 7\n",
            "7.0 m corresponde a 700.0 cms\n"
          ]
        }
      ]
    },
    {
      "cell_type": "code",
      "source": [
        "#Faça um Programa que peça o raio de um círculo, calcule e mostre sua área.\n",
        "class Circulo:\n",
        "  raio = float(input('Qual é o Raio do circulo que deseja calcular? '))\n",
        "  circulo = (raio) *2\n",
        "  \n",
        "  print(f'A área do círculo é: {circulo}')"
      ],
      "metadata": {
        "id": "-RRhR2rrNPCh",
        "colab": {
          "base_uri": "https://localhost:8080/"
        },
        "outputId": "be278abe-a158-4407-ae47-8478d9c85bef"
      },
      "execution_count": 21,
      "outputs": [
        {
          "output_type": "stream",
          "name": "stdout",
          "text": [
            "Qual é o Raio do circulo que deseja calcular? 5.5\n",
            "A área do círculo é: 11.0\n"
          ]
        }
      ]
    },
    {
      "cell_type": "code",
      "source": [
        "#Faça um Programa que pergunte quanto você ganha por hora e o número de horas trabalhadas no mês. Calcule e mostre o total do seu salário no referido mês\n",
        "valor_hora = float(input('Valor da Hora? '))\n",
        "h_trabalhadas = float(input('Horas Trabalhadas: '))\n",
        "salario = valor_hora * h_trabalhadas\n",
        "print(f'O salário é: {salario}')\n"
      ],
      "metadata": {
        "colab": {
          "base_uri": "https://localhost:8080/"
        },
        "id": "IGCPRJDhSEyQ",
        "outputId": "99fc6f61-186d-4053-d08a-53391871ef1b"
      },
      "execution_count": 22,
      "outputs": [
        {
          "output_type": "stream",
          "name": "stdout",
          "text": [
            "Valor da Hora? 5.50\n",
            "Horas Trabalhadas: 368\n",
            "O salário é: 2024.0\n"
          ]
        }
      ]
    },
    {
      "cell_type": "code",
      "source": [
        "#Faça um Programa que peça a temperatura em graus Fahrenheit, transforme e mostre a temperatura em graus Celsius.\n",
        "C = 5 * ((F-32) / 9).\n"
      ],
      "metadata": {
        "id": "6d-gXqvYVVC5"
      },
      "execution_count": null,
      "outputs": []
    },
    {
      "cell_type": "code",
      "source": [
        "#Faça um Programa que peça a temperatura em graus Celsius, transforme e mostre em graus Fahrenheit.\n"
      ],
      "metadata": {
        "id": "9vSiK8UpVt_6"
      },
      "execution_count": null,
      "outputs": []
    },
    {
      "cell_type": "code",
      "source": [
        "#Faça um Programa que peça 2 números inteiros e um número real. Calcule e mostre:\n"
      ],
      "metadata": {
        "id": "YaPb1EzAV1Yx"
      },
      "execution_count": null,
      "outputs": []
    }
  ]
}